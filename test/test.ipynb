{
 "cells": [
  {
   "cell_type": "code",
   "execution_count": 1,
   "metadata": {},
   "outputs": [
    {
     "ename": "AttributeError",
     "evalue": "module 'mesa' has no attribute 'time'",
     "output_type": "error",
     "traceback": [
      "\u001b[1;31m---------------------------------------------------------------------------\u001b[0m",
      "\u001b[1;31mAttributeError\u001b[0m                            Traceback (most recent call last)",
      "Cell \u001b[1;32mIn[1], line 56\u001b[0m\n\u001b[0;32m     53\u001b[0m \u001b[38;5;66;03m# 运行模型\u001b[39;00m\n\u001b[0;32m     54\u001b[0m \u001b[38;5;28;01mif\u001b[39;00m \u001b[38;5;18m__name__\u001b[39m \u001b[38;5;241m==\u001b[39m \u001b[38;5;124m\"\u001b[39m\u001b[38;5;124m__main__\u001b[39m\u001b[38;5;124m\"\u001b[39m:\n\u001b[0;32m     55\u001b[0m     \u001b[38;5;66;03m# 初始化模型\u001b[39;00m\n\u001b[1;32m---> 56\u001b[0m     model \u001b[38;5;241m=\u001b[39m RandomWalkerModel(width\u001b[38;5;241m=\u001b[39m\u001b[38;5;241m10\u001b[39m, height\u001b[38;5;241m=\u001b[39m\u001b[38;5;241m10\u001b[39m, num_agents\u001b[38;5;241m=\u001b[39m\u001b[38;5;241m5\u001b[39m)\n\u001b[0;32m     57\u001b[0m     \u001b[38;5;66;03m# 运行模型10步\u001b[39;00m\n\u001b[0;32m     58\u001b[0m     \u001b[38;5;28;01mfor\u001b[39;00m i \u001b[38;5;129;01min\u001b[39;00m \u001b[38;5;28mrange\u001b[39m(\u001b[38;5;241m10\u001b[39m):\n",
      "Cell \u001b[1;32mIn[1], line 34\u001b[0m, in \u001b[0;36mRandomWalkerModel.__init__\u001b[1;34m(self, width, height, num_agents)\u001b[0m\n\u001b[0;32m     32\u001b[0m \u001b[38;5;28mself\u001b[39m\u001b[38;5;241m.\u001b[39mnum_agents \u001b[38;5;241m=\u001b[39m num_agents\n\u001b[0;32m     33\u001b[0m \u001b[38;5;28mself\u001b[39m\u001b[38;5;241m.\u001b[39mgrid \u001b[38;5;241m=\u001b[39m mesa\u001b[38;5;241m.\u001b[39mspace\u001b[38;5;241m.\u001b[39mMultiGrid(width, height, \u001b[38;5;28;01mTrue\u001b[39;00m)\n\u001b[1;32m---> 34\u001b[0m \u001b[38;5;28mself\u001b[39m\u001b[38;5;241m.\u001b[39mschedule \u001b[38;5;241m=\u001b[39m mesa\u001b[38;5;241m.\u001b[39mtime\u001b[38;5;241m.\u001b[39mRandomActivation(\u001b[38;5;28mself\u001b[39m)\n\u001b[0;32m     36\u001b[0m \u001b[38;5;66;03m# 创建代理并添加到模型中\u001b[39;00m\n\u001b[0;32m     37\u001b[0m \u001b[38;5;28;01mfor\u001b[39;00m i \u001b[38;5;129;01min\u001b[39;00m \u001b[38;5;28mrange\u001b[39m(\u001b[38;5;28mself\u001b[39m\u001b[38;5;241m.\u001b[39mnum_agents):\n",
      "\u001b[1;31mAttributeError\u001b[0m: module 'mesa' has no attribute 'time'"
     ]
    }
   ],
   "source": [
    "import mesa\n",
    "import random\n",
    "\n",
    "\n",
    "# 定义代理类\n",
    "class RandomWalker(mesa.Agent):\n",
    "    def __init__(self, unique_id, model):\n",
    "        super().__init__(unique_id, model)\n",
    "\n",
    "    def step(self):\n",
    "        # 获取当前代理所在的位置\n",
    "        x, y = self.pos\n",
    "        # 获取相邻的空单元格\n",
    "        possible_steps = self.model.grid.get_neighborhood(\n",
    "            self.pos,\n",
    "            moore=True,\n",
    "            include_center=False\n",
    "        )\n",
    "        empty_cells = []\n",
    "        for pos in possible_steps:\n",
    "            if self.model.grid.is_cell_empty(pos):\n",
    "                empty_cells.append(pos)\n",
    "        if empty_cells:\n",
    "            # 随机选择一个空单元格移动\n",
    "            new_position = random.choice(empty_cells)\n",
    "            self.model.grid.move_agent(self, new_position)\n",
    "\n",
    "\n",
    "# 定义模型类\n",
    "class RandomWalkerModel(mesa.Model):\n",
    "    def __init__(self, width, height, num_agents):\n",
    "        self.num_agents = num_agents\n",
    "        self.grid = mesa.space.MultiGrid(width, height, True)\n",
    "        self.schedule = mesa.time.RandomActivation(self)\n",
    "\n",
    "        # 创建代理并添加到模型中\n",
    "        for i in range(self.num_agents):\n",
    "            a = RandomWalker(i, self)\n",
    "            self.schedule.add(a)\n",
    "            # 随机选择一个空单元格放置代理\n",
    "            x = random.randrange(self.grid.width)\n",
    "            y = random.randrange(self.grid.height)\n",
    "            while not self.grid.is_cell_empty((x, y)):\n",
    "                x = random.randrange(self.grid.width)\n",
    "                y = random.randrange(self.grid.height)\n",
    "            self.grid.place_agent(a, (x, y))\n",
    "\n",
    "    def step(self):\n",
    "        # 执行模型的一步\n",
    "        self.schedule.step()\n",
    "\n",
    "\n",
    "# 运行模型\n",
    "if __name__ == \"__main__\":\n",
    "    # 初始化模型\n",
    "    model = RandomWalkerModel(width=10, height=10, num_agents=5)\n",
    "    # 运行模型10步\n",
    "    for i in range(10):\n",
    "        model.step()\n",
    "        # 打印每一步后代理的位置\n",
    "        print(f\"Step {i + 1}:\")\n",
    "        for agent in model.schedule.agents:\n",
    "            print(f\"Agent {agent.unique_id} is at position {agent.pos}\")\n",
    "        print()"
   ]
  }
 ],
 "metadata": {
  "kernelspec": {
   "display_name": "base",
   "language": "python",
   "name": "python3"
  },
  "language_info": {
   "codemirror_mode": {
    "name": "ipython",
    "version": 3
   },
   "file_extension": ".py",
   "mimetype": "text/x-python",
   "name": "python",
   "nbconvert_exporter": "python",
   "pygments_lexer": "ipython3",
   "version": "3.12.3"
  }
 },
 "nbformat": 4,
 "nbformat_minor": 2
}
